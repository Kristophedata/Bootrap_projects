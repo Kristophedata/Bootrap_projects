{
  "nbformat": 4,
  "nbformat_minor": 0,
  "metadata": {
    "colab": {
      "provenance": [],
      "authorship_tag": "ABX9TyNXLqWQYePl43OnWxl8KZnd",
      "include_colab_link": true
    },
    "kernelspec": {
      "name": "python3",
      "display_name": "Python 3"
    },
    "language_info": {
      "name": "python"
    }
  },
  "cells": [
    {
      "cell_type": "markdown",
      "metadata": {
        "id": "view-in-github",
        "colab_type": "text"
      },
      "source": [
        "<a href=\"https://colab.research.google.com/github/chrishnu/Bootrap_projects/blob/main/Automatisation.ipynb\" target=\"_parent\"><img src=\"https://colab.research.google.com/assets/colab-badge.svg\" alt=\"Open In Colab\"/></a>"
      ]
    },
    {
      "cell_type": "code",
      "execution_count": null,
      "metadata": {
        "colab": {
          "base_uri": "https://localhost:8080/"
        },
        "id": "27olzxDVOINO",
        "outputId": "9c45add8-debf-439d-8a2a-81d3518c11ba"
      },
      "outputs": [
        {
          "output_type": "stream",
          "name": "stdout",
          "text": [
            "Looking in indexes: https://pypi.org/simple, https://us-python.pkg.dev/colab-wheels/public/simple/\n",
            "Collecting python-pptx\n",
            "  Downloading python-pptx-0.6.21.tar.gz (10.1 MB)\n",
            "\u001b[2K     \u001b[90m━━━━━━━━━━━━━━━━━━━━━━━━━━━━━━━━━━━━━━━━\u001b[0m \u001b[32m10.1/10.1 MB\u001b[0m \u001b[31m64.8 MB/s\u001b[0m eta \u001b[36m0:00:00\u001b[0m\n",
            "\u001b[?25h  Preparing metadata (setup.py) ... \u001b[?25l\u001b[?25hdone\n",
            "Requirement already satisfied: lxml>=3.1.0 in /usr/local/lib/python3.10/dist-packages (from python-pptx) (4.9.2)\n",
            "Requirement already satisfied: Pillow>=3.3.2 in /usr/local/lib/python3.10/dist-packages (from python-pptx) (8.4.0)\n",
            "Collecting XlsxWriter>=0.5.7 (from python-pptx)\n",
            "  Downloading XlsxWriter-3.1.2-py3-none-any.whl (153 kB)\n",
            "\u001b[2K     \u001b[90m━━━━━━━━━━━━━━━━━━━━━━━━━━━━━━━━━━━━━━\u001b[0m \u001b[32m153.0/153.0 kB\u001b[0m \u001b[31m15.1 MB/s\u001b[0m eta \u001b[36m0:00:00\u001b[0m\n",
            "\u001b[?25hBuilding wheels for collected packages: python-pptx\n",
            "  Building wheel for python-pptx (setup.py) ... \u001b[?25l\u001b[?25hdone\n",
            "  Created wheel for python-pptx: filename=python_pptx-0.6.21-py3-none-any.whl size=470935 sha256=c8ba78e6796cd2b6ef8b21e33d16558d4e84c5af909135858629dcff225d7d9e\n",
            "  Stored in directory: /root/.cache/pip/wheels/ea/dd/74/01b3ec7256a0800b99384e9a0f7620e358afc3a51a59bf9b49\n",
            "Successfully built python-pptx\n",
            "Installing collected packages: XlsxWriter, python-pptx\n",
            "Successfully installed XlsxWriter-3.1.2 python-pptx-0.6.21\n"
          ]
        }
      ],
      "source": [
        "pip install python-pptx"
      ]
    },
    {
      "cell_type": "code",
      "source": [
        "import csv\n",
        "from openpyxl import Workbook\n",
        "from pptx import Presentation\n",
        "from pptx.util import Inches\n",
        "\n",
        "def generate_excel(data, excel_file):\n",
        "    workbook = Workbook()\n",
        "    sheet = workbook.active\n",
        "\n",
        "    for row in data:\n",
        "      sheet.append(row)\n",
        "\n",
        "    workbook.save(excel_file)\n",
        "\n",
        "def generate_powerpoint(data, pptx_file):\n",
        "    presentation = Presentation()\n",
        "\n",
        "    slide = presentation.slides.add_slide(presentation.slide_layouts[1])\n",
        "    shapes = slide.shapes\n",
        "    num_rows = len(data)\n",
        "    num_cols = len(data[0])\n",
        "\n",
        "    table = shapes.add_table(num_rows, num_cols, Inches(1), Inches(2), Inches(8), Inches(1))\n",
        "    for r, row in enumerate(data):\n",
        "        for c, value in enumerate(row):\n",
        "            table.cell(r, c).text = str(value)\n",
        "\n",
        "    presentation.save(pptx_file)\n",
        "\n",
        "def main():\n",
        "    data = [\n",
        "        ['NOM MAGASIN', 'SIM BLANCHE', 'SIM 40', 'SIM 41', 'SIM PORTA', 'Total général'],\n",
        "    'UNAVAILABLE'\n",
        "    ]\n",
        "\n",
        "    csv_file = 'data.csv'\n",
        "    excel_file = 'data.xlsx'\n",
        "    pptx_file = 'presentation.pptx'\n",
        "\n",
        "    with open(csv_file, 'w', newline='') as file:\n",
        "        writer = csv.writer(file)\n",
        "        writer.writerows(data)\n",
        "    generate_excel(data, excel_file)\n",
        "\n",
        "    # Générer la présentation PowerPoint à partir du fichier Excel\n",
        "    generate_powerpoint(data, pptx_file)\n",
        "\n",
        "    print(\"Les fichiers CSV, Excel et PowerPoint ont été générés avec succès.\")\n",
        "\n",
        "if __name__ == '__main__':\n",
        "    main()"
      ],
      "metadata": {
        "id": "kebbcN45OJic"
      },
      "execution_count": null,
      "outputs": []
    },
    {
      "cell_type": "code",
      "source": [
        "import smtplib\n",
        "from email.mime.multipart import MIMEMultipart\n",
        "from email.mime.text import MIMEText\n",
        "from email.mime.base import MIMEBase\n",
        "from email import encoders\n",
        "\n",
        "# Informations d'authentification pour le compte Mailtrap\n",
        "smtp_server = 'smtp.mailtrap.io'\n",
        "smtp_port = 2525\n",
        "smtp_username = 'chrishounwanou@gmail.com'\n",
        "smtp_password = '****************'\n",
        "\n",
        "\n",
        "sender_email = 'chrishounwanou@gmail.com'\n",
        "receiver_email = 'chrishounwanou@gmail.com'\n",
        "\n",
        "# Création de l'objet du message\n",
        "message = MIMEMultipart()\n",
        "message['From'] = sender_email\n",
        "message['To'] = receiver_email\n",
        "message['Subject'] = 'TEST D\\'ENVOI DE MAILS AVEC MAILTRAP'\n",
        "\n",
        "# Corps du message\n",
        "message.attach(MIMEText('Bonjour Monsieur. Veuillez recevoir ci-joint mon cahier de charges.', 'plain'))\n",
        "\n",
        "\n",
        "# Lecture du fichier 📁\n",
        "file_path = r'./home/chrishounwanou/Documents/chris_hnu (1).pdf'\n",
        "with open(file_path, 'rb') as attachment:\n",
        "    # Création de l'objet de pièce jointe\n",
        "    part = MIMEBase('application', 'octet-stream')\n",
        "    part.set_payload(attachment.read())\n",
        "\n",
        "encoders.encode_base64(part) # Encodage de la pièce jointe en Base64\n",
        "part.add_header('Content-Disposition', f'attachment; filename=attachment.pdf') # Ajout des en-têtes de la pièce jointe\n",
        "message.attach(part) # Ajout de la pièce jointe au message\n",
        "\n",
        "# Gestion des erreurs avant l envoi\n",
        "try:\n",
        "    server = smtplib.SMTP(smtp_server, smtp_port)\n",
        "    server.connect(smtp_server, smtp_port)\n",
        "    # Établir la connexion\n",
        "    server.login(\"07054365220dc1\", \"f207321a53edca\")\n",
        "    server.sendmail(sender_email, receiver_email, message.as_string())\n",
        "    print('E-mail envoyé avec succès')\n",
        "except Exception as e:\n",
        "    print('Une erreur s\\'est produite lors de l\\'envoi de l\\'e-mail:', str(e))\n",
        "finally:\n",
        "    server.quit()"
      ],
      "metadata": {
        "colab": {
          "base_uri": "https://localhost:8080/",
          "height": 245
        },
        "id": "sViFfrxlUaWY",
        "outputId": "1c62f8a4-ccd0-4f09-db69-61e7fff2a226"
      },
      "execution_count": 1,
      "outputs": [
        {
          "output_type": "error",
          "ename": "FileNotFoundError",
          "evalue": "ignored",
          "traceback": [
            "\u001b[0;31m---------------------------------------------------------------------------\u001b[0m",
            "\u001b[0;31mFileNotFoundError\u001b[0m                         Traceback (most recent call last)",
            "\u001b[0;32m<ipython-input-1-2134a87810af>\u001b[0m in \u001b[0;36m<cell line: 29>\u001b[0;34m()\u001b[0m\n\u001b[1;32m     27\u001b[0m \u001b[0;31m# Lecture du fichier 📁\u001b[0m\u001b[0;34m\u001b[0m\u001b[0;34m\u001b[0m\u001b[0m\n\u001b[1;32m     28\u001b[0m \u001b[0mfile_path\u001b[0m \u001b[0;34m=\u001b[0m \u001b[0;34mr'./home/chrishounwanou/Documents/chris_hnu (1).pdf'\u001b[0m\u001b[0;34m\u001b[0m\u001b[0;34m\u001b[0m\u001b[0m\n\u001b[0;32m---> 29\u001b[0;31m \u001b[0;32mwith\u001b[0m \u001b[0mopen\u001b[0m\u001b[0;34m(\u001b[0m\u001b[0mfile_path\u001b[0m\u001b[0;34m,\u001b[0m \u001b[0;34m'rb'\u001b[0m\u001b[0;34m)\u001b[0m \u001b[0;32mas\u001b[0m \u001b[0mattachment\u001b[0m\u001b[0;34m:\u001b[0m\u001b[0;34m\u001b[0m\u001b[0;34m\u001b[0m\u001b[0m\n\u001b[0m\u001b[1;32m     30\u001b[0m     \u001b[0;31m# Création de l'objet de pièce jointe\u001b[0m\u001b[0;34m\u001b[0m\u001b[0;34m\u001b[0m\u001b[0m\n\u001b[1;32m     31\u001b[0m     \u001b[0mpart\u001b[0m \u001b[0;34m=\u001b[0m \u001b[0mMIMEBase\u001b[0m\u001b[0;34m(\u001b[0m\u001b[0;34m'application'\u001b[0m\u001b[0;34m,\u001b[0m \u001b[0;34m'octet-stream'\u001b[0m\u001b[0;34m)\u001b[0m\u001b[0;34m\u001b[0m\u001b[0;34m\u001b[0m\u001b[0m\n",
            "\u001b[0;31mFileNotFoundError\u001b[0m: [Errno 2] No such file or directory: './home/chrishounwanou/Documents/chris_hnu (1).pdf'"
          ]
        }
      ]
    }
  ]
}